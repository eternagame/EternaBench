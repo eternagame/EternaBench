{
 "cells": [
  {
   "cell_type": "code",
   "execution_count": 13,
   "metadata": {},
   "outputs": [
    {
     "name": "stdout",
     "output_type": "stream",
     "text": [
      "The autoreload extension is already loaded. To reload it, use:\n",
      "  %reload_ext autoreload\n",
      "Populating the interactive namespace from numpy and matplotlib\n"
     ]
    }
   ],
   "source": [
    "# %load /Users/hwayment/ipynb_defaults.py\n",
    "%load_ext autoreload\n",
    "%autoreload 2\n",
    "\n",
    "%pylab inline\n",
    "import numpy as np\n",
    "import pandas as pd\n",
    "\n",
    "import seaborn as sns\n",
    "sns.set_style('ticks')\n",
    "sns.set_context('paper')\n",
    "import eternabench.chemmapping_utils as utils\n",
    "import eternabench.stats as stutils\n",
    "sys.path.append('../scripts')\n",
    "from ScoreChemMapping import ScoreChemMapping"
   ]
  },
  {
   "cell_type": "code",
   "execution_count": 6,
   "metadata": {},
   "outputs": [
    {
     "name": "stdout",
     "output_type": "stream",
     "text": [
      "\u001b[34mChemMappingCalculations\u001b[m\u001b[m\n",
      "\u001b[34mChemMappingPreprocessing\u001b[m\u001b[m\n",
      "DEMO_ChemMapping.json.zip\n",
      "DEMO_Riboswitch.json.zip\n",
      "EternaBench_ChemMapping_Example_Correlations_Round1.csv\n",
      "EternaBench_ChemMapping_Example_PunpVectors_Round1.json.zip\n",
      "EternaBench_ChemMapping_Filtered_10Jul2021.json.zip\n",
      "EternaBench_ChemMapping_Full_10Jul2021.json.zip\n",
      "EternaBench_Riboswitch_Filtered_07Aug2021.json.zip\n",
      "EternaBench_Riboswitch_Full_07Aug2021.json.zip\n",
      "\u001b[34mExternalData\u001b[m\u001b[m\n",
      "\u001b[34mExternalDatasetsCalculations\u001b[m\u001b[m\n",
      "README.md\n",
      "\u001b[34mRiboswitchCalculations\u001b[m\u001b[m\n",
      "\u001b[34mRiboswitchPreprocessing\u001b[m\u001b[m\n"
     ]
    }
   ],
   "source": [
    "! ls ../data/"
   ]
  },
  {
   "cell_type": "code",
   "execution_count": 7,
   "metadata": {},
   "outputs": [
    {
     "name": "stdout",
     "output_type": "stream",
     "text": [
      "n_constructs 1088\n",
      "5271 of 84643 nucleotides (6.23%) removed, cutoff = 1.14\n"
     ]
    }
   ],
   "source": [
    "# load in data\n",
    "data = pd.read_json('SuppFigTemperaturescan_29Mar2020.json.zip')\n",
    "\n",
    "#get data corresponding to Round 69\n",
    "\n",
    "# write dataframe of all sequences concatenated together\n",
    "concat_data = utils.write_concatenated_dataframe(data)\n",
    "concat_data = concat_data.loc[concat_data['in_polyA']==0]\n",
    "# filter outliers\n",
    "concat_data = utils.filter_data(concat_data)"
   ]
  },
  {
   "cell_type": "markdown",
   "metadata": {},
   "source": [
    "## Compute correlation between data and package predictions"
   ]
  },
  {
   "cell_type": "code",
   "execution_count": 14,
   "metadata": {},
   "outputs": [
    {
     "name": "stdout",
     "output_type": "stream",
     "text": [
      "Package list: ['vienna_2_35C', 'nupack_95_35C', 'rnastructure_35C', 'vienna_2_37C', 'nupack_95_37C', 'rnastructure_37C', 'vienna_2_40C', 'nupack_95_40C', 'rnastructure_40C', 'vienna_2_45C', 'nupack_95_45C', 'rnastructure_45C', 'vienna_2_50C', 'nupack_95_50C', 'rnastructure_50C', 'vienna_2_55C', 'nupack_95_55C', 'rnastructure_55C', 'vienna_2_60C', 'nupack_95_60C', 'rnastructure_60C', 'vienna_2_65C', 'nupack_95_65C', 'rnastructure_65C', 'vienna_2_70C', 'nupack_95_70C', 'rnastructure_70C', 'vienna_2_75C', 'nupack_95_75C', 'rnastructure_75C', 'vienna_2_80C', 'nupack_95_80C', 'rnastructure_80C']\n",
      "n_constructs 1088\n",
      "Analyzing ETERNA_R69_0000.rdat\n",
      "5345 of 85952 nucleotides (6.22%) removed, cutoff = 1.15\n"
     ]
    }
   ],
   "source": [
    "correlation_data = ScoreChemMapping(data, n_bootstraps=20)"
   ]
  },
  {
   "cell_type": "code",
   "execution_count": 24,
   "metadata": {},
   "outputs": [
    {
     "data": {
      "text/html": [
       "<div>\n",
       "<style scoped>\n",
       "    .dataframe tbody tr th:only-of-type {\n",
       "        vertical-align: middle;\n",
       "    }\n",
       "\n",
       "    .dataframe tbody tr th {\n",
       "        vertical-align: top;\n",
       "    }\n",
       "\n",
       "    .dataframe thead th {\n",
       "        text-align: right;\n",
       "    }\n",
       "</style>\n",
       "<table border=\"1\" class=\"dataframe\">\n",
       "  <thead>\n",
       "    <tr style=\"text-align: right;\">\n",
       "      <th></th>\n",
       "      <th>pearson</th>\n",
       "      <th>package</th>\n",
       "      <th>bs_ind</th>\n",
       "      <th>filename</th>\n",
       "      <th>package_type</th>\n",
       "      <th>temperature</th>\n",
       "    </tr>\n",
       "  </thead>\n",
       "  <tbody>\n",
       "    <tr>\n",
       "      <th>0</th>\n",
       "      <td>0.663860</td>\n",
       "      <td>vienna_2_35C</td>\n",
       "      <td>0.0</td>\n",
       "      <td>ETERNA_R69_0000.rdat</td>\n",
       "      <td>vienna</td>\n",
       "      <td>35</td>\n",
       "    </tr>\n",
       "    <tr>\n",
       "      <th>1</th>\n",
       "      <td>0.661068</td>\n",
       "      <td>nupack_95_35C</td>\n",
       "      <td>0.0</td>\n",
       "      <td>ETERNA_R69_0000.rdat</td>\n",
       "      <td>nupack</td>\n",
       "      <td>35</td>\n",
       "    </tr>\n",
       "    <tr>\n",
       "      <th>2</th>\n",
       "      <td>0.661443</td>\n",
       "      <td>rnastructure_35C</td>\n",
       "      <td>0.0</td>\n",
       "      <td>ETERNA_R69_0000.rdat</td>\n",
       "      <td>rnastructure</td>\n",
       "      <td>35</td>\n",
       "    </tr>\n",
       "    <tr>\n",
       "      <th>3</th>\n",
       "      <td>0.667102</td>\n",
       "      <td>vienna_2_37C</td>\n",
       "      <td>0.0</td>\n",
       "      <td>ETERNA_R69_0000.rdat</td>\n",
       "      <td>vienna</td>\n",
       "      <td>37</td>\n",
       "    </tr>\n",
       "    <tr>\n",
       "      <th>4</th>\n",
       "      <td>0.662941</td>\n",
       "      <td>nupack_95_37C</td>\n",
       "      <td>0.0</td>\n",
       "      <td>ETERNA_R69_0000.rdat</td>\n",
       "      <td>nupack</td>\n",
       "      <td>37</td>\n",
       "    </tr>\n",
       "  </tbody>\n",
       "</table>\n",
       "</div>"
      ],
      "text/plain": [
       "    pearson           package  bs_ind              filename  package_type  \\\n",
       "0  0.663860      vienna_2_35C     0.0  ETERNA_R69_0000.rdat        vienna   \n",
       "1  0.661068     nupack_95_35C     0.0  ETERNA_R69_0000.rdat        nupack   \n",
       "2  0.661443  rnastructure_35C     0.0  ETERNA_R69_0000.rdat  rnastructure   \n",
       "3  0.667102      vienna_2_37C     0.0  ETERNA_R69_0000.rdat        vienna   \n",
       "4  0.662941     nupack_95_37C     0.0  ETERNA_R69_0000.rdat        nupack   \n",
       "\n",
       "  temperature  \n",
       "0          35  \n",
       "1          35  \n",
       "2          35  \n",
       "3          37  \n",
       "4          37  "
      ]
     },
     "execution_count": 24,
     "metadata": {},
     "output_type": "execute_result"
    }
   ],
   "source": [
    "correlation_data.head()"
   ]
  },
  {
   "cell_type": "code",
   "execution_count": 16,
   "metadata": {},
   "outputs": [],
   "source": [
    "correlation_data['package_type'] = correlation_data.apply(lambda row: row['package'].split('_')[0], axis=1)\n",
    "correlation_data['temperature'] = correlation_data.apply(lambda row: row['package'].split('_')[-1][:-1], axis=1)"
   ]
  },
  {
   "cell_type": "code",
   "execution_count": 25,
   "metadata": {},
   "outputs": [],
   "source": [
    "correlation_data.groupby(['package_type','temperature']).agg(['mean','std']).to_csv('ED1b_raw_data.csv')"
   ]
  },
  {
   "cell_type": "code",
   "execution_count": 18,
   "metadata": {},
   "outputs": [
    {
     "data": {
      "image/png": "[encoded data removed]",
      "text/plain": [
       "<Figure size 216x216 with 1 Axes>"
      ]
     },
     "metadata": {},
     "output_type": "display_data"
    }
   ],
   "source": [
    "figure(figsize=(3,3))\n",
    "tmp_pal=sns.color_palette('Set1',5)\n",
    "standardized_palette = [tmp_pal[x] for x in [1,2,0,4,3]] + [[0,0,0]]\n",
    "\n",
    "\n",
    "sns.pointplot(x='temperature', y='pearson', data=correlation_data,\n",
    "                      hue='package_type', palette=standardized_palette,\n",
    "                      join=False, ci='sd', marker='.', scale=0.5, dodge=False)\n",
    "\n",
    "xticks(rotation=45,horizontalalignment='right')\n",
    "\n",
    "\n",
    "axhline(0.7360404346538927, color=standardized_palette[-1],label='EternaFold')\n",
    "axhline(0.7179765071297487, color=standardized_palette[-3],label='CONTRAfold 2')\n",
    "axhline(0.7242348781651908, color=standardized_palette[-2], label='RNAsoft BLstar')\n",
    "\n",
    "ylabel('Correlation')\n",
    "xlabel('Temperature (˚C)')\n",
    "legend(frameon=False)\n",
    "savefig('FIGURES/SI/ED1B_temp_range.pdf', transparent=True, bbox_inches='tight')"
   ]
  },
  {
   "cell_type": "code",
   "execution_count": null,
   "metadata": {},
   "outputs": [],
   "source": []
  }
 ],
 "metadata": {
  "kernelspec": {
   "display_name": "Python 3 (ipykernel)",
   "language": "python",
   "name": "python3"
  },
  "language_info": {
   "codemirror_mode": {
    "name": "ipython",
    "version": 3
   },
   "file_extension": ".py",
   "mimetype": "text/x-python",
   "name": "python",
   "nbconvert_exporter": "python",
   "pygments_lexer": "ipython3",
   "version": "3.7.3"
  }
 },
 "nbformat": 4,
 "nbformat_minor": 4
}
