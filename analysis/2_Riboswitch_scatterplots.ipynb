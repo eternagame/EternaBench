{
 "cells": [
  {
   "cell_type": "markdown",
   "id": "997974eb",
   "metadata": {},
   "source": [
    "In this notebook:\n",
    "    \n",
    "[ ] Fig 2B: example riboswitch scatterplots\n",
    "\n",
    "[ ] S8. log Kd -lig, +lig for all datasets\n",
    "\n",
    "[ ] S9. scatterplots for all bp estimations, Ribologic dataset\n",
    "\n",
    "[ ] S10. scatterplots for representative packages on all datasets\n",
    "\n",
    "[ ] S12. estimates for K+lig in all Z package options\n",
    "\n",
    "[ ] S13. estimates for log AR in all Z package options"
   ]
  },
  {
   "cell_type": "code",
   "execution_count": null,
   "id": "d2826316",
   "metadata": {},
   "outputs": [],
   "source": []
  }
 ],
 "metadata": {
  "kernelspec": {
   "display_name": "Python 3",
   "language": "python",
   "name": "python3"
  },
  "language_info": {
   "codemirror_mode": {
    "name": "ipython",
    "version": 3
   },
   "file_extension": ".py",
   "mimetype": "text/x-python",
   "name": "python",
   "nbconvert_exporter": "python",
   "pygments_lexer": "ipython3",
   "version": "3.7.3"
  }
 },
 "nbformat": 4,
 "nbformat_minor": 5
}
