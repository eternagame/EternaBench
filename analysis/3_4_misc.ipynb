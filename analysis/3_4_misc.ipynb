{
 "cells": [
  {
   "cell_type": "markdown",
   "id": "3092d82b-7ffe-415c-8480-de553af84811",
   "metadata": {},
   "source": [
    "In this notebook:\n",
    "\n",
    "[ ] Fig 3 STRAND prediction\n",
    "\n",
    "[ ] Fig 4 PUM prediction"
   ]
  },
  {
   "cell_type": "code",
   "execution_count": null,
   "id": "f6c3d0e3-a00c-45bf-af0c-3e19cc3f754c",
   "metadata": {},
   "outputs": [],
   "source": []
  }
 ],
 "metadata": {
  "kernelspec": {
   "display_name": "Python 3",
   "language": "python",
   "name": "python3"
  },
  "language_info": {
   "codemirror_mode": {
    "name": "ipython",
    "version": 3
   },
   "file_extension": ".py",
   "mimetype": "text/x-python",
   "name": "python",
   "nbconvert_exporter": "python",
   "pygments_lexer": "ipython3",
   "version": "3.8.5"
  }
 },
 "nbformat": 4,
 "nbformat_minor": 5
}
