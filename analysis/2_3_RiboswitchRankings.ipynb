{
 "cells": [
  {
   "cell_type": "markdown",
   "id": "30c2d84e-6daf-41d1-b5c7-d077e8776016",
   "metadata": {},
   "source": [
    "In this notebook: \n",
    "\n",
    "[ ] Figure 2C: Riboswitch Kfold-lig ranking\n",
    "\n",
    "[ ] Figure 2D: Kfold+lig ranking\n",
    "\n",
    "[ ] Fig 2E: AR ranking\n",
    "\n",
    "[ ] S11: Spearman, RMSE ranking\n",
    "\n",
    "[ ] Fig 3: Riboswitch test set Eterna ranking"
   ]
  },
  {
   "cell_type": "code",
   "execution_count": null,
   "id": "9c0ff3b0-b075-4a0b-aae1-8e4dab0c91ee",
   "metadata": {},
   "outputs": [],
   "source": []
  },
  {
   "cell_type": "code",
   "execution_count": null,
   "id": "b8db5045-2261-4c0a-91a0-0853adfa1c04",
   "metadata": {},
   "outputs": [],
   "source": []
  }
 ],
 "metadata": {
  "kernelspec": {
   "display_name": "Python 3",
   "language": "python",
   "name": "python3"
  },
  "language_info": {
   "codemirror_mode": {
    "name": "ipython",
    "version": 3
   },
   "file_extension": ".py",
   "mimetype": "text/x-python",
   "name": "python",
   "nbconvert_exporter": "python",
   "pygments_lexer": "ipython3",
   "version": "3.8.5"
  }
 },
 "nbformat": 4,
 "nbformat_minor": 5
}
