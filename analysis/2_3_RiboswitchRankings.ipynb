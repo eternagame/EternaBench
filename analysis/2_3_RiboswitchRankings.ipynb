{
 "cells": [
  {
   "cell_type": "markdown",
   "id": "c48a56df",
   "metadata": {},
   "source": [
    "In this notebook: \n",
    "\n",
    "[ ] Figure 2C: Riboswitch Kfold-lig ranking\n",
    "\n",
    "[ ] Figure 2D: Kfold+lig ranking\n",
    "\n",
    "[ ] Fig 2E: AR ranking\n",
    "\n",
    "[ ] S11: Spearman, RMSE ranking\n",
    "\n",
    "[ ] Fig 3: Riboswitch test set Eterna ranking"
   ]
  },
  {
   "cell_type": "code",
   "execution_count": null,
   "id": "6ca048e9",
   "metadata": {},
   "outputs": [],
   "source": []
  },
  {
   "cell_type": "code",
   "execution_count": null,
   "id": "ed805f13",
   "metadata": {},
   "outputs": [],
   "source": []
  }
 ],
 "metadata": {
  "kernelspec": {
   "display_name": "Python 3",
   "language": "python",
   "name": "python3"
  },
  "language_info": {
   "codemirror_mode": {
    "name": "ipython",
    "version": 3
   },
   "file_extension": ".py",
   "mimetype": "text/x-python",
   "name": "python",
   "nbconvert_exporter": "python",
   "pygments_lexer": "ipython3",
   "version": "3.7.3"
  }
 },
 "nbformat": 4,
 "nbformat_minor": 5
}
