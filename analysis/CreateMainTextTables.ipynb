{
 "cells": [
  {
   "cell_type": "code",
   "execution_count": 29,
   "id": "f3bd31a8",
   "metadata": {},
   "outputs": [
    {
     "name": "stdout",
     "output_type": "stream",
     "text": [
      "The autoreload extension is already loaded. To reload it, use:\n",
      "  %reload_ext autoreload\n",
      "Populating the interactive namespace from numpy and matplotlib\n"
     ]
    },
    {
     "name": "stderr",
     "output_type": "stream",
     "text": [
      "/Users/hwayment/miniconda3/lib/python3.7/site-packages/IPython/core/magics/pylab.py:160: UserWarning: pylab import has clobbered these variables: ['cm']\n",
      "`%matplotlib` prevents importing * from pylab and numpy\n",
      "  \"\\n`%matplotlib` prevents importing * from pylab and numpy\"\n"
     ]
    }
   ],
   "source": [
    "%load_ext autoreload\n",
    "%autoreload 2\n",
    "\n",
    "%pylab inline\n",
    "import numpy as np\n",
    "import pandas as pd\n",
    "\n",
    "import seaborn as sns\n",
    "sns.set_style('ticks')\n",
    "sns.set_context('paper')\n",
    "import os\n",
    "import eternabench as eb"
   ]
  },
  {
   "cell_type": "code",
   "execution_count": 31,
   "id": "6e432bae",
   "metadata": {},
   "outputs": [
    {
     "name": "stdout",
     "output_type": "stream",
     "text": [
      "['Round 00' 'Round 01' 'Round 02' 'Round 03' 'Round 04' 'Round 05'\n",
      " 'Round 06' 'Round 07' 'Round 08' 'Round 09' 'Round 10' 'Round 11'\n",
      " 'Round 12' 'Round 13' 'Round 14' 'Round 15' 'Round 16' 'Round 17'\n",
      " 'Round 18' 'Round 19' 'Round 20' 'Round 21' 'Round 22' 'Round 23']\n",
      "package\n",
      "contrafold_1            0.993864\n",
      "contrafold_2            0.693878\n",
      "contrafold_2_nc         1.011861\n",
      "nupack_95               0.305989\n",
      "nupack_95_nodangles     0.473423\n",
      "nupack_99               0.304851\n",
      "nupack_99_60C           0.887164\n",
      "nupack_99_nodangles     0.470689\n",
      "rnasoft_07              0.213637\n",
      "rnasoft_99              0.554483\n",
      "rnasoft_99_nodangles    0.550883\n",
      "rnasoft_bl_nodangles    0.344271\n",
      "rnasoft_blstar          0.356737\n",
      "rnasoft_lam-cg          0.254622\n",
      "rnasoft_nom-cg          0.298586\n",
      "rnastructure            0.502919\n",
      "rnastructure_60C        0.569878\n",
      "rnastructure_nocoax     0.554493\n",
      "vienna_1                0.558876\n",
      "vienna_2                0.468253\n",
      "vienna_2_60C            0.290456\n",
      "vienna_2_nodangles      0.472476\n",
      "vienna_langdon_pars     0.476185\n",
      "vienna_rnasoft_pars     0.450549\n",
      "Name: pearson_zscore_by_Dataset_mean, dtype: float64\n",
      "['1_FMN' '2_FMN' '3_FMN' '4_FMN' '5_FMN' '6_FMN' '7_FMN' '8_Theo' '8_Trp'\n",
      " 'Ribologic_FMN' 'Ribologic_Theo' 'Ribologic_Trp']\n",
      "package\n",
      "contrafold_1            0.545937\n",
      "contrafold_2            0.569873\n",
      "contrafold_2_nc         0.462554\n",
      "nupack_95               0.327186\n",
      "nupack_95_nodangles     0.453304\n",
      "nupack_99               0.318073\n",
      "nupack_99_60C           0.509227\n",
      "nupack_99_nodangles     0.440094\n",
      "rnasoft_07              0.338462\n",
      "rnasoft_99              0.256829\n",
      "rnasoft_99_nodangles    0.264372\n",
      "rnasoft_bl_nodangles    0.451949\n",
      "rnasoft_blstar          0.579136\n",
      "rnasoft_lam-cg          0.592637\n",
      "rnasoft_nom-cg          0.538692\n",
      "rnastructure            0.473222\n",
      "rnastructure_60C        0.349416\n",
      "rnastructure_nocoax     0.409487\n",
      "vienna_1                0.972090\n",
      "vienna_2                0.293471\n",
      "vienna_2_60C            0.320367\n",
      "vienna_2_nodangles      0.324927\n",
      "vienna_langdon_pars     0.420212\n",
      "vienna_rnasoft_pars     0.300439\n",
      "Name: pearson_zscore_by_Dataset_mean, dtype: float64\n"
     ]
    }
   ],
   "source": [
    "cm = pd.read_csv(os.environ['ETERNABENCH_PATH']+'/scoring_data/EB_-efold_pearson_zscores_by_Dataset.csv')\n",
    "cm['Kind'] = 'Chem Mapping'\n",
    "print(cm.Dataset.unique())\n",
    "print(cm.groupby('package')['pearson_zscore_by_Dataset_mean'].std())\n",
    "\n",
    "rs = pd.read_csv(os.environ['ETERNABENCH_PATH']+'/scoring_data/RS_bps_pearson_zscores.csv')\n",
    "rs['Kind'] = 'Riboswitch'\n",
    "print(rs.Dataset.unique())\n",
    "print(rs.groupby('package')['pearson_zscore_by_Dataset_mean'].std())"
   ]
  },
  {
   "cell_type": "code",
   "execution_count": 39,
   "id": "7a301a65",
   "metadata": {},
   "outputs": [
    {
     "name": "stdout",
     "output_type": "stream",
     "text": [
      "CONTRAfold 2\n",
      "Vienna 2, 60˚C\n",
      "RNAsoft BL, no dangles\n",
      "RNAsoft BLstar\n",
      "RNAstructure, 60˚C\n",
      "CONTRAfold 1\n",
      "RNAsoft LAM-CG\n",
      "RNAsoft 2007\n",
      "Vienna 2, `RNASoft 2007` params\n",
      "CONTRAfold 2, noncomplementary\n",
      "RNAsoft NOM-CG\n",
      "Vienna 2, `Langdon 2018` params\n",
      "Vienna 2\n",
      "RNAstructure\n",
      "RNAstructure, no coaxial stacking\n",
      "RNAsoft 1999, no dangles\n",
      "RNAsoft 1999\n",
      "NUPACK 1999\n",
      "NUPACK 1995\n",
      "Vienna 2, no dangles\n",
      "NUPACK 1995, no dangles\n",
      "NUPACK 1999, no dangles\n",
      "Vienna 1\n",
      "NUPACK 1999, 60˚C\n"
     ]
    }
   ],
   "source": [
    "net = pd.concat([cm,rs])\n",
    "packages = eb.plot.get_packages()\n",
    "\n",
    "net = net.merge(packages,on='package')\n",
    "\n",
    "kind_ranking = net.groupby(['title'])['pearson_zscore_by_Dataset_mean'].agg(['mean','std'])\n",
    "kind_ranking = kind_ranking.sort_values('mean',ascending=False)\n",
    "for x in kind_ranking.index:\n",
    "    print(x)"
   ]
  },
  {
   "cell_type": "code",
   "execution_count": 68,
   "id": "a1d1c2b6",
   "metadata": {},
   "outputs": [],
   "source": [
    "zscores = pd.read_csv(os.environ['ETERNABENCH_PATH']+'/scoring_data/EternaBench_external_zscores_by_dataset_MANUAL_COMPILED.csv')\n",
    "zscores = zscores.loc[zscores.window_size==900]\n",
    "tmp = zscores.groupby(['Class','package'])['pearson_zscore_by_Dataset_mean'].mean()\n",
    "tmp = tmp.reset_index()\n",
    "tmp.pivot(index=['package'], columns='Class').to_csv('table2_precursor_mean.csv')\n",
    "tmp = zscores.groupby(['Class','package'])['pearson_zscore_by_Dataset_mean'].std()\n",
    "tmp = tmp.reset_index()\n",
    "tmp.pivot(index=['package'], columns='Class').to_csv('table2_precursor_stdev.csv')"
   ]
  },
  {
   "cell_type": "code",
   "execution_count": 73,
   "id": "1f1290f7",
   "metadata": {},
   "outputs": [
    {
     "name": "stdout",
     "output_type": "stream",
     "text": [
      "0.3952413186666666\n",
      "1.2619893468888892\n",
      "-1.2167268807500002\n",
      "0.3022213680277777\n",
      "-1.0128084679444447\n",
      "0.15620217719444443\n",
      "-0.9543088229166669\n",
      "0.12184683133333334\n",
      "0.40138837764721136\n",
      "0.38607962747327584\n",
      "0.2386191978589235\n",
      "0.33855619185080665\n",
      "0.3875404533633963\n",
      "0.4358649352047612\n",
      "0.36862684083360403\n",
      "0.37583633184874427\n"
     ]
    }
   ],
   "source": [
    "zscores = pd.read_csv(os.environ['ETERNABENCH_PATH']+'/scoring_data/EternaBench_external_zscores_by_dataset_MANUAL_COMPILED.csv')\n",
    "zscores = zscores.loc[zscores.window_size==900]\n",
    "tmp = zscores.groupby(['package'])['pearson_zscore_by_Dataset_mean'].mean()\n",
    "for x in tmp.values:\n",
    "    print(x)\n",
    "\n",
    "tmp = zscores.groupby(['package'])['pearson_zscore_by_Dataset_mean'].std()\n",
    "for x in tmp.values:\n",
    "    print(x)"
   ]
  },
  {
   "cell_type": "code",
   "execution_count": null,
   "id": "f680f28d",
   "metadata": {},
   "outputs": [],
   "source": []
  }
 ],
 "metadata": {
  "kernelspec": {
   "display_name": "Python 3",
   "language": "python",
   "name": "python3"
  },
  "language_info": {
   "codemirror_mode": {
    "name": "ipython",
    "version": 3
   },
   "file_extension": ".py",
   "mimetype": "text/x-python",
   "name": "python",
   "nbconvert_exporter": "python",
   "pygments_lexer": "ipython3",
   "version": "3.7.3"
  }
 },
 "nbformat": 4,
 "nbformat_minor": 5
}
