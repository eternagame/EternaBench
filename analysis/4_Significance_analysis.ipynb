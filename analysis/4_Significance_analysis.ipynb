{
 "cells": [
  {
   "cell_type": "code",
   "execution_count": 1,
   "id": "dabd0248",
   "metadata": {},
   "outputs": [
    {
     "name": "stdout",
     "output_type": "stream",
     "text": [
      "Populating the interactive namespace from numpy and matplotlib\n"
     ]
    }
   ],
   "source": [
    "# %load /Users/hwayment/ipynb_defaults.py\n",
    "%load_ext autoreload\n",
    "%autoreload 2\n",
    "\n",
    "%pylab inline\n",
    "import numpy as np\n",
    "import pandas as pd\n",
    "\n",
    "import seaborn as sns\n",
    "sns.set_style('ticks')\n",
    "sns.set_context('paper')\n",
    "\n",
    "from arnie.mfe import mfe\n",
    "from arnie.pfunc import pfunc\n",
    "from arnie.bpps import bpps\n",
    "from ipynb.draw import draw_struct\n",
    "from RiboGraphViz import RGV\n",
    "openai  ='open -a \"Adobe Illustrator\"'\n",
    "import os, sys\n",
    "import eternabench as eb"
   ]
  },
  {
   "cell_type": "code",
   "execution_count": 2,
   "id": "7e6ff12c",
   "metadata": {},
   "outputs": [],
   "source": [
    "zscores = pd.read_csv(os.environ['ETERNABENCH_PATH']+'/scoring_data/EternaBench_external_zscores_by_dataset.csv')\n",
    "zscores = zscores.loc[zscores.window_size==900]\n",
    "\n",
    "zscores['col_to_print'] = zscores.apply(lambda row: \"%.2f (%.2f, %.2f)\" % (row['pearson_mean'], \n",
    "                                                                           row['pearson_percentile_2.5'], row['pearson_percentile_97.5']), axis=1)"
   ]
  },
  {
   "cell_type": "code",
   "execution_count": 56,
   "id": "44195fe5",
   "metadata": {},
   "outputs": [],
   "source": [
    "tmp = zscores[['package','Dataset','col_to_print']].pivot(columns=['package'],index='Dataset')\n",
    "tmp.columns = [x[1] for x in tmp.columns]\n",
    "\n",
    "tmp2 = pd.DataFrame()\n",
    "for ds in zscores.Dataset.unique():\n",
    "    tmp2 = tmp2.append(tmp.loc[ds])\n",
    "    \n",
    "tmp2 = tmp2[['eternafold_B','contrafold_2', 'rnasoft_blstar','vienna_2_60C','rnastructure_60C','vienna_2','rnastructure']]\n",
    "tmp2.to_csv('MainText_Table2_precursor.csv')"
   ]
  },
  {
   "cell_type": "code",
   "execution_count": 5,
   "id": "4e6ae80c",
   "metadata": {},
   "outputs": [
    {
     "name": "stdout",
     "output_type": "stream",
     "text": [
      "YES Dadonaite,2019\n",
      "YES Huber, 2019 in virion\n",
      "NO Huber, 2019 in vitro\n",
      "\tcontrafold_2 tied, 0.18, 0.20\n",
      "\trnasoft_blstar tied, 0.18, 0.20\n",
      "\tvienna_2_60C tied, 0.18, 0.19\n",
      "\trnastructure_60C tied, 0.18, 0.19\n",
      "\tvienna_2 tied, 0.18, 0.18\n",
      "\trnastructure tied, 0.18, 0.18\n",
      "YES Kutchko,2018\n",
      "YES Lavender,2015\n",
      "YES Siegfried,2014\n",
      "YES Simon,2019 Invitro\n",
      "NO Simon,2019 Invivo\n",
      "\tcontrafold_2 tied, 0.48, 0.51\n",
      "\trnasoft_blstar tied, 0.48, 0.49\n",
      "\trnastructure_60C tied, 0.48, 0.49\n",
      "NO Watters,2018\n",
      "\tcontrafold_2 tied, -0.04, 0.04\n",
      "\trnasoft_blstar tied, -0.04, 0.07\n",
      "\tvienna_2_60C tied, -0.04, 0.05\n",
      "\trnastructure_60C tied, -0.04, 0.05\n",
      "\tvienna_2 tied, -0.04, 0.08\n",
      "\trnastructure tied, -0.04, 0.08\n",
      "YES Watts,2009\n",
      "YES Huston, 2021 SARS-CoV-2 in vivo\n",
      "NO Manfredonia, 2020 SARS-CoV-2 DMS in vitro\n",
      "\trnasoft_blstar tied, 0.56, 0.56\n",
      "YES Manfredonia, 2020 SARS-CoV-2 SHAPE in vitro\n",
      "YES Manfredonia, 2020 SARS-CoV-2 SHAPE in vivo\n",
      "YES Sun, 2021 SARS-CoV-2 in vitro\n",
      "YES Sun, 2021 SARS-CoV-2 in vivo\n",
      "NO Leppek, 2021, Nluc mRNA 1M7 in vitro\n",
      "\tcontrafold_2 tied, 0.30, 0.37\n",
      "\trnasoft_blstar tied, 0.30, 0.38\n",
      "\tvienna_2_60C tied, 0.30, 0.39\n",
      "\trnastructure_60C tied, 0.30, 0.40\n",
      "\tvienna_2 tied, 0.30, 0.38\n",
      "\trnastructure tied, 0.30, 0.38\n",
      "NO Leppek, 2021, Nluc mRNA DMS in vitro\n",
      "\tcontrafold_2 tied, 0.69, 0.74\n",
      "\trnasoft_blstar tied, 0.69, 0.75\n",
      "\tvienna_2_60C tied, 0.69, 0.73\n",
      "\trnastructure_60C tied, 0.69, 0.73\n",
      "\tvienna_2 tied, 0.69, 0.70\n",
      "YES Mauger,2019\n",
      "YES Sun, 2019 HEK293 chromatin in vitro\n",
      "NO Sun, 2019 HEK293 chromatin in vivo\n",
      "\tvienna_2_60C tied, 0.11, 0.12\n",
      "\trnastructure_60C tied, 0.11, 0.12\n",
      "YES Sun, 2019 HEK293 cytoplasm in vitro\n",
      "YES Sun, 2019 HEK293 cytoplasm in vivo\n",
      "YES Sun, 2019 HEK293 nucleoplasm in vitro\n",
      "YES Sun, 2019 HEK293 nucleoplasm in vivo\n",
      "NO Deigan, 2009 ex vivo rRNA\n",
      "\tcontrafold_2 tied, 0.44, 0.49\n",
      "\trnasoft_blstar tied, 0.44, 0.48\n",
      "\tvienna_2_60C tied, 0.44, 0.44\n",
      "NO McGinnis, 2015, rRNA in vivo\n",
      "\tcontrafold_2 tied, 0.09, 0.18\n",
      "\trnasoft_blstar tied, 0.09, 0.15\n",
      "\tvienna_2_60C tied, 0.09, 0.20\n",
      "\trnastructure_60C tied, 0.09, 0.20\n",
      "\tvienna_2 tied, 0.09, 0.13\n",
      "\trnastructure tied, 0.09, 0.13\n",
      "NO Simon,2019 Ecoli exvivo\n",
      "\tcontrafold_2 tied, 0.42, 0.49\n",
      "\trnasoft_blstar tied, 0.42, 0.49\n",
      "\tvienna_2_60C tied, 0.42, 0.45\n",
      "\trnastructure_60C tied, 0.42, 0.45\n",
      "\tvienna_2 tied, 0.42, 0.46\n",
      "\trnastructure tied, 0.42, 0.46\n",
      "NO 1_deg_50C\n",
      "\tcontrafold_2 tied, 0.17, 0.20\n",
      "\trnasoft_blstar tied, 0.17, 0.19\n",
      "\tvienna_2_60C tied, 0.17, 0.19\n",
      "\trnastructure_60C tied, 0.17, 0.19\n",
      "\tvienna_2 tied, 0.17, 0.17\n",
      "NO 1_deg_Mg_50C\n",
      "\tcontrafold_2 tied, 0.17, 0.20\n",
      "\trnasoft_blstar tied, 0.17, 0.19\n",
      "\tvienna_2_60C tied, 0.17, 0.19\n",
      "\trnastructure_60C tied, 0.17, 0.19\n",
      "\tvienna_2 tied, 0.17, 0.17\n",
      "\trnastructure tied, 0.17, 0.17\n",
      "NO 1_deg_Mg_pH10\n",
      "\tcontrafold_2 tied, 0.15, 0.17\n",
      "\trnasoft_blstar tied, 0.15, 0.17\n",
      "\tvienna_2_60C tied, 0.15, 0.17\n",
      "\trnastructure_60C tied, 0.15, 0.18\n",
      "\tvienna_2 tied, 0.15, 0.16\n",
      "\trnastructure tied, 0.15, 0.17\n",
      "NO 1_deg_pH10\n",
      "\tcontrafold_2 tied, 0.15, 0.17\n",
      "\trnasoft_blstar tied, 0.15, 0.17\n",
      "\tvienna_2_60C tied, 0.15, 0.17\n",
      "\trnastructure_60C tied, 0.15, 0.18\n",
      "\tvienna_2 tied, 0.15, 0.16\n",
      "\trnastructure tied, 0.15, 0.17\n",
      "YES 1_reactivity\n",
      "NO 2_deg_Mg_50C\n",
      "\tcontrafold_2 tied, 0.28, 0.31\n",
      "\trnasoft_blstar tied, 0.28, 0.30\n",
      "\tvienna_2_60C tied, 0.28, 0.30\n",
      "\trnastructure_60C tied, 0.28, 0.30\n",
      "\tvienna_2 tied, 0.28, 0.28\n",
      "NO 2_deg_Mg_pH10\n",
      "\tcontrafold_2 tied, 0.31, 0.32\n",
      "\trnasoft_blstar tied, 0.31, 0.32\n",
      "\tvienna_2_60C tied, 0.31, 0.32\n",
      "\trnastructure_60C tied, 0.31, 0.33\n",
      "YES 2_reactivity\n",
      "FINAL COUNT 20\n"
     ]
    }
   ],
   "source": [
    "ctr=0\n",
    "for ds in zscores.Dataset.unique():\n",
    "    tmp = zscores.loc[zscores.Dataset==ds]\n",
    "    not_efold = tmp.loc[tmp.package!='eternafold_B']\n",
    "    efold_min_cutoff = tmp.loc[tmp.package=='eternafold_B']['pearson_percentile_2.5'].values[0]\n",
    "    if all(efold_min_cutoff > not_efold['pearson_percentile_97.5'].values):\n",
    "        print('YES', ds)\n",
    "        ctr+=1\n",
    "    else:\n",
    "        print('NO', ds)\n",
    "        \n",
    "        for pkg in ['contrafold_2', 'rnasoft_blstar','vienna_2_60C','rnastructure_60C','vienna_2','rnastructure']:\n",
    "            pkg_max_cutoff = tmp.loc[tmp.package==pkg]['pearson_percentile_97.5'].values[0]\n",
    "            if efold_min_cutoff < pkg_max_cutoff:\n",
    "                print('\\t%s tied, %.2f, %.2f' % (pkg, efold_min_cutoff, pkg_max_cutoff))\n",
    "            not_pkg = tmp.loc[tmp.package!=pkg]\n",
    "            pkg_min_cutoff = tmp.loc[tmp.package==pkg]['pearson_percentile_2.5'].values[0]   \n",
    "            if all(pkg_min_cutoff > not_pkg['pearson_percentile_97.5'].values):\n",
    "                print('BUT: %s won' % pkg)\n",
    "\n",
    "print('FINAL COUNT', ctr)"
   ]
  },
  {
   "cell_type": "code",
   "execution_count": 4,
   "id": "bf30e9f8",
   "metadata": {},
   "outputs": [
    {
     "data": {
      "text/plain": [
       "36"
      ]
     },
     "execution_count": 4,
     "metadata": {},
     "output_type": "execute_result"
    }
   ],
   "source": [
    "len(zscores.Dataset.unique())"
   ]
  },
  {
   "cell_type": "code",
   "execution_count": null,
   "id": "13ccbdcc",
   "metadata": {},
   "outputs": [],
   "source": []
  }
 ],
 "metadata": {
  "kernelspec": {
   "display_name": "Python 3",
   "language": "python",
   "name": "python3"
  },
  "language_info": {
   "codemirror_mode": {
    "name": "ipython",
    "version": 3
   },
   "file_extension": ".py",
   "mimetype": "text/x-python",
   "name": "python",
   "nbconvert_exporter": "python",
   "pygments_lexer": "ipython3",
   "version": "3.7.3"
  }
 },
 "nbformat": 4,
 "nbformat_minor": 5
}
